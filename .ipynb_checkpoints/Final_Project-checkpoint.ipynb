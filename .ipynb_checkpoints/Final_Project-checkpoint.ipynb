{
 "cells": [
  {
   "cell_type": "code",
   "execution_count": 1,
   "metadata": {},
   "outputs": [],
   "source": [
    "import numpy as np\n",
    "import pandas as pd\n",
    "import matplotlib.pyplot as plt\n",
    "\n",
    "# Read in the file with the data and place it in a Dataframe\n",
    "Data_1 = pd.read_csv(\"Time_Data1.csv\")\n",
    "# drop the empty cells of data\n",
    "Data_1 = Data_1.dropna(axis='columns')\n",
    "# show only the first three columns\n",
    "Data_1 = Data_1.iloc[:,0:3]\n",
    "# Show the dataframe\n",
    "#Data_1"
   ]
  },
  {
   "cell_type": "code",
   "execution_count": 2,
   "metadata": {},
   "outputs": [],
   "source": [
    "# create a read_time_string function that takes 's' as an argument\n",
    "def read_time_string(s):\n",
    "    # split the 's' argument by the spaces and place in a column called times as an array\n",
    "    times = s.split()\n",
    "    # define four variables and set to 0\n",
    "    days,hours,mins,secs = 0,0,0,0\n",
    "    # for loop that goes through the entire times column array and checks whether each element should be put in a days, hours, minutes, or seconds column\n",
    "    for i in range(len(times)-1):\n",
    "        # check whether the element is equal to 'days', change the string to an int and place it in a days variable\n",
    "        if times[i+1] == 'days':\n",
    "            days = int(times[i])\n",
    "        # check whether the element is equal to 'hours', change the string to an int and place it in a hours variable\n",
    "        if times[i+1] == 'hours':\n",
    "            hours = int(times[i])\n",
    "        # check whether the element is equal to 'minutes', change the string to an int and place it in a minutes variable\n",
    "        if times[i+1] == 'minutes':\n",
    "            mins = int(times[i])\n",
    "        # check whether the element is equal to 'seconds', change the string to an int and place it in a days variable\n",
    "        if times[i+1] == 'seconds':\n",
    "            secs = int(times[i])\n",
    "    # Calulate the total seconds of each row it took to open the email\n",
    "    total = secs + (mins*60) + (hours*3600) + (days*86400)\n",
    "    return days,hours,mins,secs,total"
   ]
  },
  {
   "cell_type": "code",
   "execution_count": 3,
   "metadata": {},
   "outputs": [],
   "source": [
    "# initialize four new variables equal to empty lists\n",
    "Days,Hours,Mins,Secs,total_time = [],[],[],[],[]\n",
    "# for loop to go through the column 'Time to Open'\n",
    "for x in Data_1['Time to Open']:\n",
    "    # set new variables equal to the data given when you call the read_time_string function\n",
    "    d,h,m,s,t = read_time_string(x)\n",
    "    # Add elements in variable d to the end of the Days list\n",
    "    Days.append(d)\n",
    "    # Add elements in variable h to the end of the Hours list\n",
    "    Hours.append(h)\n",
    "    # Add elements in variable m to the end of the Mins list\n",
    "    Mins.append(m)\n",
    "    # Add elements in variable s to the end of the Secs list\n",
    "    Secs.append(s)\n",
    "    # Add elements in variable t to the end of the totaL_time list\n",
    "    total_time.append(int(t))\n",
    "\n",
    "# Add the Days column to the original Data_1 dataframe    \n",
    "Data_1['Days'] = pd.Series(Days)\n",
    "# Add the Hours column to the original Data_1 dataframe \n",
    "Data_1['Hours'] = pd.Series(Hours)\n",
    "# Add the Mins column to the original Data_1 dataframe \n",
    "Data_1['Mins'] = pd.Series(Mins)\n",
    "# Add the Secs column to the original Data_1 dataframe \n",
    "Data_1['Secs'] = pd.Series(Secs)\n",
    "# Add the total_time column to the original Data_1 dataframe \n",
    "Data_1['Total Seconds'] = pd.Series(total_time)\n",
    "\n",
    "# define new function analyze that takes in a row as an argument\n",
    "def analyze10(row):\n",
    "    # check whether the element in a row in the 'Total Seconds' column is <= 20 seconds\n",
    "    if row['Total Seconds'] < 10:\n",
    "        # return True if < 10 seconds\n",
    "        return True\n",
    "    # return False if > 10 seconds\n",
    "    return False\n",
    "\n",
    "# define new function analyze that takes in a row as an argument\n",
    "def analyze20(row):\n",
    "    # check whether the element in a row in the 'Total Seconds' column is <= 20 seconds\n",
    "    if row['Total Seconds'] <= 20 & row['Total Seconds'] >= 10:\n",
    "        # return True if <= 10 seconds\n",
    "        return True\n",
    "    # return False if > 10 seconds\n",
    "    return False\n",
    "\n",
    "# create a new column in Data_1 called 'Bot' by using lambda to call the function analyze on all rows to place either True or False in the column, 'Bot'\n",
    "Data_1['Definitely a Bot'] = Data_1.apply(lambda row: analyze10(row),axis=1)\n",
    "\n",
    "# create a new column in Data_1 called 'Bot' by using lambda to call the function analyze on all rows to place either True or False in the column, 'Bot'\n",
    "Data_1['Probably a Bot'] = Data_1.apply(lambda row: analyze20(row),axis=1)\n",
    "\n",
    "# print Data_1 to check that it worked\n",
    "#print(Data_1.head())"
   ]
  },
  {
   "cell_type": "code",
   "execution_count": 4,
   "metadata": {},
   "outputs": [],
   "source": [
    "# create a new column with the split data\n",
    "Data_1['Split'] = Data_1.Email.str.split('@')\n",
    "\n",
    "# create a function that splits the email addresses and keeps only the part after the @ sign\n",
    "def split_email(x):\n",
    "   return x.split(\"@\")[1]\n",
    "\n",
    "# create a new column called Provider and place all of the split email providers in it\n",
    "Data_1[\"Provider\"] = Data_1[\"Email\"].apply(split_email)"
   ]
  },
  {
   "cell_type": "code",
   "execution_count": 5,
   "metadata": {},
   "outputs": [
    {
     "data": {
      "text/plain": [
       "yahoo.com                   108\n",
       "hotmail.com                  98\n",
       "gmail.com                    77\n",
       "obu.edu                      45\n",
       "aol.com                      41\n",
       "comcast.net                  21\n",
       "msn.com                      18\n",
       "YAHOO.COM                    14\n",
       "sbcglobal.net                13\n",
       "outlook.com                  11\n",
       "me.com                       11\n",
       "pivotphysicaltherapy.com     10\n",
       "live.com                     10\n",
       "HOTMAIL.COM                   9\n",
       "cox.net                       8\n",
       "mac.com                       7\n",
       "psu.edu                       7\n",
       "msmary.edu                    7\n",
       "verizon.net                   7\n",
       "icloud.com                    6\n",
       "att.net                       6\n",
       "linfield.edu                  5\n",
       "highpoint.edu                 5\n",
       "COMCAST.NET                   5\n",
       "pacific.edu                   5\n",
       "athletics.gatech.edu          4\n",
       "nn.k12.va.us                  4\n",
       "winthrop.edu                  4\n",
       "saintleo.edu                  4\n",
       "uark.edu                      4\n",
       "                           ... \n",
       "pobox.com                     1\n",
       "alumni.uwlax.edu              1\n",
       "unf.edu                       1\n",
       "hawaiiantel.net               1\n",
       "gmercyu.edu                   1\n",
       "bordertherapy.com             1\n",
       "omavs.com                     1\n",
       "sharylandisd.org              1\n",
       "mah.harvard.edu               1\n",
       "hrrmc.net                     1\n",
       "GAVILAN.EDU                   1\n",
       "tcu.edu                       1\n",
       "columbushosp.org              1\n",
       "ravens.nfl.net                1\n",
       "newhaven.misd.net             1\n",
       "g-pisd.org                    1\n",
       "cholmsky.com                  1\n",
       "csh.k12.ny.us                 1\n",
       "robeson.k12.nc.us             1\n",
       "hemphillisd.net               1\n",
       "pcxsports.com                 1\n",
       "csub.edu                      1\n",
       "DUKE.EDU                      1\n",
       "seekonkschools.org            1\n",
       "pepsico.com                   1\n",
       "usd508.org                    1\n",
       "dixie.edu                     1\n",
       "hhsys.org                     1\n",
       "covenant.edu                  1\n",
       "parisisd.net                  1\n",
       "Name: Provider, Length: 407, dtype: int64"
      ]
     },
     "execution_count": 5,
     "metadata": {},
     "output_type": "execute_result"
    }
   ],
   "source": [
    "# Print out the amount of times each email provider was sent an email\n",
    "Data_1[\"Provider\"].value_counts()"
   ]
  },
  {
   "cell_type": "code",
   "execution_count": 6,
   "metadata": {},
   "outputs": [
    {
     "data": {
      "text/plain": [
       "obu.edu                     9\n",
       "pivotphysicaltherapy.com    7\n",
       "linfield.edu                4\n",
       "msmary.edu                  4\n",
       "nn.k12.va.us                3\n",
       "highpoint.edu               3\n",
       "saintleo.edu                2\n",
       "unionps.org                 2\n",
       "episd.org                   2\n",
       "dmhhs.org                   2\n",
       "grandview.edu               2\n",
       "jenksps.org                 2\n",
       "swcsd.org                   1\n",
       "marin.edu                   1\n",
       "sharylandisd.org            1\n",
       "mccd.edu                    1\n",
       "monmouth.edu                1\n",
       "walsh.edu                   1\n",
       "carlisleschools.org         1\n",
       "tatnall.org                 1\n",
       "ozarks.edu                  1\n",
       "WHEELINGHOSPITAL.COM        1\n",
       "BCPS.ORG                    1\n",
       "crawfordmh.org              1\n",
       "sjrstate.edu                1\n",
       "svusd.org                   1\n",
       "calbaptist.edu              1\n",
       "canton.edu                  1\n",
       "metrofire.ca.gov            1\n",
       "stxavier.org                1\n",
       "abington.k12.pa.us          1\n",
       "shawnee.edu                 1\n",
       "osshealth.com               1\n",
       "robeson.k12.nc.us           1\n",
       "wsc.edu                     1\n",
       "cherokee1.org               1\n",
       "tvcc.cc                     1\n",
       "pt360coop.com               1\n",
       "gmercyu.edu                 1\n",
       "sfu.ca                      1\n",
       "capital.edu                 1\n",
       "fredonia.edu                1\n",
       "ohiohealth.com              1\n",
       "cerritos.edu                1\n",
       "scc.losrios.edu             1\n",
       "waldorf.edu                 1\n",
       "zacharyschools.org          1\n",
       "ngu.edu                     1\n",
       "Name: Definitely a Bot Email Addresses, dtype: int64"
      ]
     },
     "execution_count": 6,
     "metadata": {},
     "output_type": "execute_result"
    }
   ],
   "source": [
    "# create a list with the emails of those who are Definitely bots\n",
    "dbot_email = Data_1.loc[Data_1[\"Definitely a Bot\"] == True, \"Email\"]\n",
    "\n",
    "# create a column for the email addresses of those who are definitely bots and split them\n",
    "Data_1[\"Definitely a Bot Email Addresses\"] = dbot_email.str.split('@')\n",
    "\n",
    "# create a function to split the email addresses and keep only the part after the @ sign\n",
    "def split_defemail(x):\n",
    "   return x.split(\"@\")[1]\n",
    "\n",
    "# create a new column called Definitely a Bot Email Addresses and place all of the split email providers in it\n",
    "Data_1[\"Definitely a Bot Email Addresses\"] = Data_1.loc[Data_1[\"Definitely a Bot\"] == True, \"Email\"].apply(split_defemail)\n",
    "\n",
    "# Print out the amount of times each email provider was sent an email who are definitely bots\n",
    "Data_1[\"Definitely a Bot Email Addresses\"].value_counts()"
   ]
  },
  {
   "cell_type": "code",
   "execution_count": 9,
   "metadata": {},
   "outputs": [
    {
     "data": {
      "text/plain": [
       "hotmail.com          1\n",
       "saintleo.edu         1\n",
       "waldorf.edu          1\n",
       "missouridelta.com    1\n",
       "crawfordmh.org       1\n",
       "Name: Probably a Bot Email Addresses, dtype: int64"
      ]
     },
     "execution_count": 9,
     "metadata": {},
     "output_type": "execute_result"
    }
   ],
   "source": [
    "# create a list with the emails of those who are probably bots\n",
    "pbot_email = Data_1.loc[Data_1[\"Probably a Bot\"] == True, \"Email\"]\n",
    "\n",
    "# create a column for the email addresses of those who are probably bots and split them\n",
    "Data_1[\"Probably a Bot Email Addresses\"] = pbot_email.str.split('@')\n",
    "\n",
    "# create a function to split the email addresses and keep only the part after the @ sign\n",
    "def split_probemail(x):\n",
    "   return x.split(\"@\")[1]\n",
    "\n",
    "# create a new column called Definitely a Bot Email Addresses and place all of the split email providers in it\n",
    "Data_1[\"Probably a Bot Email Addresses\"] = Data_1.loc[Data_1[\"Probably a Bot\"] == True, \"Email\"].apply(split_probemail)\n",
    "\n",
    "# Print out the amount of times each email provider was sent an email who are definitely bots\n",
    "Data_1[\"Probably a Bot Email Addresses\"].value_counts()"
   ]
  },
  {
   "cell_type": "code",
   "execution_count": 7,
   "metadata": {},
   "outputs": [
    {
     "name": "stdout",
     "output_type": "stream",
     "text": [
      "78\n",
      "953\n",
      "5\n",
      "1026\n"
     ]
    }
   ],
   "source": [
    "# calculate the total amount of trues in the Bots column\n",
    "total_true = np.sum(Data_1['Definitely a Bot'])\n",
    "# calculate the total amount of falses in the Bots column\n",
    "total_false = len(Data_1['Definitely a Bot'])-total_true\n",
    "\n",
    "# calculate the total amount of trues in the Bots column\n",
    "total_true2 = np.sum(Data_1['Probably a Bot'])\n",
    "# calculate the total amount of falses in the Bots column\n",
    "total_false2 = len(Data_1['Probably a Bot'])-total_true2\n",
    "\n",
    "print(total_true)\n",
    "print(total_false)\n",
    "\n",
    "print(total_true2)\n",
    "print(total_false2)\n"
   ]
  },
  {
   "cell_type": "code",
   "execution_count": 8,
   "metadata": {},
   "outputs": [
    {
     "data": {
      "image/png": "[encoded data removed]",
      "text/plain": [
       "<Figure size 432x288 with 1 Axes>"
      ]
     },
     "metadata": {
      "needs_background": "light"
     },
     "output_type": "display_data"
    },
    {
     "data": {
      "image/png": "[encoded data removed]",
      "text/plain": [
       "<Figure size 432x288 with 1 Axes>"
      ]
     },
     "metadata": {
      "needs_background": "light"
     },
     "output_type": "display_data"
    }
   ],
   "source": [
    "plt.bar([1,2],[total_true,total_false],.5,align='center')\n",
    "# .5 is the bar thickness\n",
    "# [1,2] is just positioning\n",
    "objects = ['Total Definitely Bots','Total Definitely Humans']\n",
    "plt.xticks([1,2],objects)\n",
    "plt.ylabel('Frequency')\n",
    "plt.title('Email Bots')\n",
    "plt.show()\n",
    "\n",
    "plt.bar([1,2],[total_true2,total_false2],.5,align='center')\n",
    "# .5 is the bar thickness\n",
    "# [1,2] is just positioning\n",
    "objects = ['Total Probably Bots','Total Probably Humans']\n",
    "plt.xticks([1,2],objects)\n",
    "plt.ylabel('Frequency')\n",
    "plt.title('Email Bots')\n",
    "plt.show()"
   ]
  },
  {
   "cell_type": "code",
   "execution_count": null,
   "metadata": {},
   "outputs": [],
   "source": []
  }
 ],
 "metadata": {
  "kernelspec": {
   "display_name": "Python 3",
   "language": "python",
   "name": "python3"
  },
  "language_info": {
   "codemirror_mode": {
    "name": "ipython",
    "version": 3
   },
   "file_extension": ".py",
   "mimetype": "text/x-python",
   "name": "python",
   "nbconvert_exporter": "python",
   "pygments_lexer": "ipython3",
   "version": "3.6.5"
  }
 },
 "nbformat": 4,
 "nbformat_minor": 2
}

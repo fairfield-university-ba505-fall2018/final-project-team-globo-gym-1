{
 "cells": [
  {
   "cell_type": "markdown",
   "metadata": {},
   "source": [
    "**Email Provider and Bots**  \n",
    "By: Alex Cattie, Kevin Coppinger, and Michael Szemenyei\n",
    "\n",
    "**Aim of Project**   \n",
    "We acted as if we had been contracted by an online company who wanted to send out an email blast to their customers about an up coming event that warranted an response. In order to make sure that they do not email any bots they have asked us to research which email provider is most reliable and they will only send the email to their list with those providers. They were also interested in seeing which emails were not humans answering and just bots. Along with just email provider they wanted to know which top-level domain tended to be the most reliable and which produced the most bots. They were also interested in seeing which emails were not humans answering and just bots. \n",
    "\n",
    "\n",
    "**Research Objectives**\n",
    "* Are certain providers more likely to be bots than others?\n",
    "* Which major provider(s) are most reliable?\n",
    "* Which major provider(s) are least reliable?\n",
    "* Which top-level domain(s) are the most / least reliable?\n",
    "\n",
    "**Data Source**   \n",
    "We recieved the data from the client who gathered the emails from their customers.\n",
    "\n",
    "**Assumptions**   \n",
    "* If an email was responded to within 10 seconds of being sent, it was **deemed** to be a Bot.\n",
    "* If an email was responded to between 10 and 20 seconds then it was considered to **probably** a Bot.\n",
    "* If an email was responded to any amount of time over 20 seconds then it **not** considered a Bot. These were thought to be humans answering.  \n",
    "\n",
    "**Main Providers Considered**               \n",
    "* yahoo.com           \n",
    "* hotmail.com\n",
    "* gmail.com\n",
    "* obu.edu\n",
    "* aol.com\n",
    "* comcast.net\n",
    "* msn.com\n",
    "* sbcglobal.net\n",
    "* me.com\n",
    "* outlook.com\n",
    "\n",
    "**Top-Level Domains Considered**   \n",
    "* .com\n",
    "* .edu\n",
    "* .net\n",
    "* .org\n",
    "* .ca"
   ]
  },
  {
   "cell_type": "code",
   "execution_count": 74,
   "metadata": {},
   "outputs": [],
   "source": [
    "import numpy as np\n",
    "import pandas as pd\n",
    "import matplotlib.pyplot as plt\n",
    "\n",
    "# Read in the file with the data and place it in a Dataframe\n",
    "Data_1 = pd.read_csv(\"Time_Data1.csv\")\n",
    "# drop the empty cells of data\n",
    "Data_1 = Data_1.dropna(axis='columns')\n",
    "# show only the first three columns\n",
    "Data_1 = Data_1.iloc[:,0:3]\n",
    "# Show the dataframe\n",
    "#Data_1"
   ]
  },
  {
   "cell_type": "code",
   "execution_count": 75,
   "metadata": {},
   "outputs": [],
   "source": [
    "# create a read_time_string function that takes 's' as an argument\n",
    "def read_time_string(s):\n",
    "    # split the 's' argument by the spaces and place in a column called times as an array\n",
    "    times = s.split()\n",
    "    # define four variables and set to 0\n",
    "    days,hours,mins,secs = 0,0,0,0\n",
    "    # for loop that goes through the entire times column array and checks whether each element should be put in a days, hours, minutes, or seconds column\n",
    "    for i in range(len(times)-1):\n",
    "        # check whether the element is equal to 'days', change the string to an int and place it in a days variable\n",
    "        if times[i+1] == 'days':\n",
    "            days = int(times[i])\n",
    "        # check whether the element is equal to 'hours', change the string to an int and place it in a hours variable\n",
    "        if times[i+1] == 'hours':\n",
    "            hours = int(times[i])\n",
    "        # check whether the element is equal to 'minutes', change the string to an int and place it in a minutes variable\n",
    "        if times[i+1] == 'minutes':\n",
    "            mins = int(times[i])\n",
    "        # check whether the element is equal to 'seconds', change the string to an int and place it in a days variable\n",
    "        if times[i+1] == 'seconds':\n",
    "            secs = int(times[i])\n",
    "    # Calulate the total seconds of each row it took to open the email\n",
    "    total = secs + (mins*60) + (hours*3600) + (days*86400)\n",
    "    return days,hours,mins,secs,total"
   ]
  },
  {
   "cell_type": "code",
   "execution_count": 76,
   "metadata": {},
   "outputs": [],
   "source": [
    "# initialize four new variables equal to empty lists\n",
    "Days,Hours,Mins,Secs,total_time = [],[],[],[],[]\n",
    "# for loop to go through the column 'Time to Open'\n",
    "for x in Data_1['Time to Open']:\n",
    "    # set new variables equal to the data given when you call the read_time_string function\n",
    "    d,h,m,s,t = read_time_string(x)\n",
    "    # Add elements in variable d to the end of the Days list\n",
    "    Days.append(d)\n",
    "    # Add elements in variable h to the end of the Hours list\n",
    "    Hours.append(h)\n",
    "    # Add elements in variable m to the end of the Mins list\n",
    "    Mins.append(m)\n",
    "    # Add elements in variable s to the end of the Secs list\n",
    "    Secs.append(s)\n",
    "    # Add elements in variable t to the end of the totaL_time list\n",
    "    total_time.append(int(t))\n",
    "\n",
    "# Add the Days column to the original Data_1 dataframe    \n",
    "Data_1['Days'] = pd.Series(Days)\n",
    "# Add the Hours column to the original Data_1 dataframe \n",
    "Data_1['Hours'] = pd.Series(Hours)\n",
    "# Add the Mins column to the original Data_1 dataframe \n",
    "Data_1['Mins'] = pd.Series(Mins)\n",
    "# Add the Secs column to the original Data_1 dataframe \n",
    "Data_1['Secs'] = pd.Series(Secs)\n",
    "# Add the total_time column to the original Data_1 dataframe \n",
    "Data_1['Total Seconds'] = pd.Series(total_time)\n",
    "\n",
    "# define new function analyze that takes in a row as an argument\n",
    "def analyze10(row):\n",
    "    # check whether the element in a row in the 'Total Seconds' column is <= 20 seconds\n",
    "    if row['Total Seconds'] < 10:\n",
    "        # return True if < 10 seconds\n",
    "        return True\n",
    "    # return False if > 10 seconds\n",
    "    return False\n",
    "\n",
    "# define new function analyze that takes in a row as an argument\n",
    "def analyze20(row):\n",
    "    # check whether the element in a row in the 'Total Seconds' column is <= 20 seconds\n",
    "    if row['Total Seconds'] <= 20 & row['Total Seconds'] >= 10:\n",
    "        # return True if <= 10 seconds\n",
    "        return True\n",
    "    # return False if > 10 seconds\n",
    "    return False\n",
    "\n",
    "# create a new column in Data_1 called 'Bot' by using lambda to call the function analyze on all rows to place either True or False in the column, 'Bot'\n",
    "Data_1['Definitely a Bot'] = Data_1.apply(lambda row: analyze10(row),axis=1)\n",
    "\n",
    "# create a new column in Data_1 called 'Bot' by using lambda to call the function analyze on all rows to place either True or False in the column, 'Bot'\n",
    "Data_1['Probably a Bot'] = Data_1.apply(lambda row: analyze20(row),axis=1)\n",
    "\n",
    "# print Data_1 to check that it worked\n",
    "#print(Data_1.head())"
   ]
  },
  {
   "cell_type": "code",
   "execution_count": 77,
   "metadata": {},
   "outputs": [],
   "source": [
    "# create a new column with the split data\n",
    "Data_1['Split'] = Data_1.Email.str.split('@')\n",
    "\n",
    "# create a function that splits the email addresses and keeps only the part after the @ sign\n",
    "def split_email(x):\n",
    "   return x.split(\"@\")[1]\n",
    "\n",
    "# create a new column called Provider and place all of the split email providers in it\n",
    "Data_1[\"Provider\"] = Data_1[\"Email\"].apply(split_email)"
   ]
  },
  {
   "cell_type": "code",
   "execution_count": 78,
   "metadata": {},
   "outputs": [],
   "source": [
    "# create a list with the emails of those who are Definitely bots\n",
    "dbot_email = Data_1.loc[Data_1[\"Definitely a Bot\"] == True, \"Email\"]\n",
    "\n",
    "# create a column for the email addresses of those who are definitely bots and split them\n",
    "Data_1[\"Definitely a Bot Email Addresses\"] = dbot_email.str.split('@')\n",
    "\n",
    "# create a function to split the email addresses and keep only the part after the @ sign\n",
    "def split_defemail(x):\n",
    "   return x.split(\"@\")[1]\n",
    "\n",
    "# create a new column called Definitely a Bot Email Addresses and place all of the split email providers in it\n",
    "Data_1[\"Definitely a Bot Email Addresses\"] = Data_1.loc[Data_1[\"Definitely a Bot\"] == True, \"Email\"].apply(split_defemail)\n",
    "\n",
    "# Print out the amount of times each email provider was sent an email who are definitely bots\n",
    "#Data_1[\"Definitely a Bot Email Addresses\"].value_counts()"
   ]
  },
  {
   "cell_type": "code",
   "execution_count": 79,
   "metadata": {},
   "outputs": [
    {
     "data": {
      "text/plain": [
       "hotmail.com          1\n",
       "waldorf.edu          1\n",
       "missouridelta.com    1\n",
       "saintleo.edu         1\n",
       "crawfordmh.org       1\n",
       "Name: Probably a Bot Email Addresses, dtype: int64"
      ]
     },
     "execution_count": 79,
     "metadata": {},
     "output_type": "execute_result"
    }
   ],
   "source": [
    "# create a list with the emails of those who are probably bots\n",
    "pbot_email = Data_1.loc[Data_1[\"Probably a Bot\"] == True, \"Email\"]\n",
    "\n",
    "# create a column for the email addresses of those who are probably bots and split them\n",
    "Data_1[\"Probably a Bot Email Addresses\"] = pbot_email.str.split('@')\n",
    "\n",
    "# create a function to split the email addresses and keep only the part after the @ sign\n",
    "def split_probemail(x):\n",
    "   return x.split(\"@\")[1]\n",
    "\n",
    "# create a new column called Definitely a Bot Email Addresses and place all of the split email providers in it\n",
    "Data_1[\"Probably a Bot Email Addresses\"] = Data_1.loc[Data_1[\"Probably a Bot\"] == True, \"Email\"].apply(split_probemail)\n",
    "\n",
    "# Print out the amount of times each email provider was sent an email who are definitely bots\n",
    "Data_1[\"Probably a Bot Email Addresses\"].value_counts()"
   ]
  },
  {
   "cell_type": "code",
   "execution_count": 80,
   "metadata": {},
   "outputs": [
    {
     "name": "stdout",
     "output_type": "stream",
     "text": [
      "78\n",
      "953\n",
      "5\n",
      "1026\n"
     ]
    }
   ],
   "source": [
    "# calculate the total amount of trues in the Bots column\n",
    "total_true = np.sum(Data_1['Definitely a Bot'])\n",
    "# calculate the total amount of falses in the Bots column\n",
    "total_false = len(Data_1['Definitely a Bot'])-total_true\n",
    "\n",
    "# calculate the total amount of trues in the Bots column\n",
    "total_true2 = np.sum(Data_1['Probably a Bot'])\n",
    "# calculate the total amount of falses in the Bots column\n",
    "total_false2 = len(Data_1['Probably a Bot'])-total_true2\n",
    "\n",
    "print(total_true)\n",
    "print(total_false)\n",
    "\n",
    "print(total_true2)\n",
    "print(total_false2)\n"
   ]
  },
  {
   "cell_type": "code",
   "execution_count": 81,
   "metadata": {},
   "outputs": [
    {
     "data": {
      "image/png": "[encoded data removed]",
      "text/plain": [
       "<Figure size 432x288 with 1 Axes>"
      ]
     },
     "metadata": {
      "needs_background": "light"
     },
     "output_type": "display_data"
    }
   ],
   "source": [
    "plt.bar([1,2],[total_true,total_false],.5,align='center')\n",
    "# .5 is the bar thickness\n",
    "# [1,2] is just positioning\n",
    "objects = ['Total Definitely Bots','Total Definitely Humans']\n",
    "plt.xticks([1,2],objects)\n",
    "plt.ylabel('Frequency')\n",
    "plt.title('Email Bots')\n",
    "plt.show()"
   ]
  },
  {
   "cell_type": "code",
   "execution_count": 82,
   "metadata": {},
   "outputs": [
    {
     "data": {
      "image/png": "[encoded data removed]",
      "text/plain": [
       "<Figure size 432x288 with 1 Axes>"
      ]
     },
     "metadata": {
      "needs_background": "light"
     },
     "output_type": "display_data"
    }
   ],
   "source": [
    "# Plotting the number of emails from the list in top 13 used providers\n",
    "Data_2 = Data_1[\"Provider\"]\n",
    "Data_3 = Data_2.str.lower()\n",
    "Data_3.value_counts()[0:6].plot(kind='barh')\n",
    "plt.xlabel('Number of Addresses')\n",
    "plt.ylabel('Provider')\n",
    "plt.title('Provider Usage')\n",
    "plt.show()"
   ]
  },
  {
   "cell_type": "code",
   "execution_count": 83,
   "metadata": {},
   "outputs": [],
   "source": [
    "# define new function analyze that takes in a row as an argument\n",
    "def analyze11(row):\n",
    "#If statement to categorize Definitely Bots\n",
    "    if row['Definitely a Bot'] == True:\n",
    "        # return 'Definitely a Bot' if True\n",
    "        return 'Definitely a Bot'\n",
    "    # return False if > 10 seconds\n",
    "    elif row['Probably a Bot'] == True:\n",
    "        return 'Probably a Bot'\n",
    "    else :\n",
    "        return 'Not a Bot'\n",
    "\n",
    "# create a new column in Data_1 called 'Bot' by using lambda to call the function analyze on all rows to place either True or False in the column, 'Bot'\n",
    "Data_1['Bot Classifier'] = Data_1.apply(lambda row: analyze11(row),axis=1)\n",
    "\n",
    "# print Data_1 to check that it worked\n",
    "#Data_1"
   ]
  },
  {
   "cell_type": "code",
   "execution_count": 84,
   "metadata": {},
   "outputs": [],
   "source": [
    "# Seperated each of the major providers into their own specific data frames to make analysis easier.\n",
    "yahoo = Data_1[Data_1['Provider']== \"yahoo.com\"]\n",
    "hotmail = Data_1[Data_1['Provider']=='hotmail.com']\n",
    "gmail = Data_1[Data_1['Provider']=='gmail.com']\n",
    "obu = Data_1[Data_1['Provider']=='obu.edu']\n",
    "aol = Data_1[Data_1['Provider']=='aol.com']\n",
    "comcast = Data_1[Data_1['Provider']=='comcast.net']\n",
    "msn = Data_1[Data_1['Provider']=='msn.com']\n",
    "sbcglobal = Data_1[Data_1['Provider']=='sbcglobal.net']\n",
    "outlook = Data_1[Data_1['Provider']=='outlook.com']\n",
    "me = Data_1[Data_1['Provider']=='me.com']"
   ]
  },
  {
   "cell_type": "code",
   "execution_count": 85,
   "metadata": {},
   "outputs": [],
   "source": [
    "Top_10 = pd.concat([yahoo, hotmail, gmail, obu, aol, comcast, msn, sbcglobal, outlook, me], axis=0)"
   ]
  },
  {
   "cell_type": "code",
   "execution_count": 86,
   "metadata": {},
   "outputs": [
    {
     "data": {
      "text/plain": [
       "<matplotlib.axes._subplots.AxesSubplot at 0x7f41f2b25828>"
      ]
     },
     "execution_count": 86,
     "metadata": {},
     "output_type": "execute_result"
    },
    {
     "data": {
      "image/png": "[encoded data removed]",
      "text/plain": [
       "<Figure size 432x288 with 1 Axes>"
      ]
     },
     "metadata": {
      "needs_background": "light"
     },
     "output_type": "display_data"
    }
   ],
   "source": [
    "new_table = Top_10.groupby(['Bot Classifier', 'Provider'])['Provider'].count().unstack('Bot Classifier')\n",
    "new_table.plot(kind = 'bar')"
   ]
  },
  {
   "cell_type": "code",
   "execution_count": 87,
   "metadata": {},
   "outputs": [
    {
     "data": {
      "text/plain": [
       "<matplotlib.axes._subplots.AxesSubplot at 0x7f41f2ee4898>"
      ]
     },
     "execution_count": 87,
     "metadata": {},
     "output_type": "execute_result"
    },
    {
     "data": {
      "image/png": "[encoded data removed]",
      "text/plain": [
       "<Figure size 432x288 with 1 Axes>"
      ]
     },
     "metadata": {
      "needs_background": "light"
     },
     "output_type": "display_data"
    }
   ],
   "source": [
    "Top_7 = pd.concat([obu, aol, comcast, msn, sbcglobal, outlook, me], axis=0)\n",
    "new_table2 = Top_7.groupby(['Provider', 'Bot Classifier'])['Bot Classifier'].count().unstack('Provider')\n",
    "new_table2.plot(kind = 'bar', stacked=True)"
   ]
  },
  {
   "cell_type": "code",
   "execution_count": 88,
   "metadata": {},
   "outputs": [],
   "source": [
    "def provider20(row):\n",
    "    if row['Provider'] == 'yahoo.com':\n",
    "        return 'yahoo.com'\n",
    "    elif row['Provider'] == 'gmail.com':\n",
    "        return 'gmail.com'\n",
    "    elif row['Provider'] == 'hotmail.com':\n",
    "        return 'hotmail.com'\n",
    "    elif row['Provider'] == 'comcast.net':\n",
    "        return 'comcast.net'\n",
    "    elif row['Provider'] == 'aol.com':\n",
    "        return 'aol.com'\n",
    "    elif row['Provider'] == 'msn.com':\n",
    "        return 'msn.com'\n",
    "    elif row['Provider'] == 'outlook.com':\n",
    "        return 'outlook.com'\n",
    "    else :\n",
    "        return 'Other'\n",
    "Data_1['Filtered Provider'] = Data_1.apply(lambda row: provider20(row), axis=1)"
   ]
  },
  {
   "cell_type": "code",
   "execution_count": 89,
   "metadata": {},
   "outputs": [
    {
     "data": {
      "image/png": "[encoded data removed]",
      "text/plain": [
       "<Figure size 432x288 with 1 Axes>"
      ]
     },
     "metadata": {
      "needs_background": "light"
     },
     "output_type": "display_data"
    }
   ],
   "source": [
    "group_by_provider = Data_1.groupby(['Filtered Provider', 'Bot Classifier'])['Bot Classifier'].count().unstack('Filtered Provider')\n",
    "group_by_provider.plot(kind = 'bar')\n",
    "plt.show()"
   ]
  },
  {
   "cell_type": "code",
   "execution_count": 90,
   "metadata": {},
   "outputs": [
    {
     "data": {
      "image/png": "[encoded data removed]",
      "text/plain": [
       "<Figure size 432x288 with 1 Axes>"
      ]
     },
     "metadata": {
      "needs_background": "light"
     },
     "output_type": "display_data"
    }
   ],
   "source": [
    "group_by_provider = Data_1.groupby(['Filtered Provider', 'Bot Classifier'])['Bot Classifier'].count().unstack('Filtered Provider')\n",
    "group_by_provider.plot(kind = 'bar')\n",
    "plt.yscale('log')"
   ]
  },
  {
   "cell_type": "code",
   "execution_count": 91,
   "metadata": {},
   "outputs": [],
   "source": [
    "# create a new column with the split data\n",
    "Data_1['Split'] = Data_1.Provider.str.split('.')\n",
    "\n",
    "# create a function that splits the provider and keeps only the part after the '.' sign\n",
    "def split_provider(x):\n",
    "   return x.split(\".\")[-1]\n",
    "\n",
    "# create a new column called Provider and place all of the split email providers in it\n",
    "Data_1[\"Email_End\"] = Data_1[\"Provider\"].apply(split_provider)"
   ]
  },
  {
   "cell_type": "code",
   "execution_count": 92,
   "metadata": {},
   "outputs": [
    {
     "data": {
      "image/png": "[encoded data removed]",
      "text/plain": [
       "<Figure size 432x288 with 1 Axes>"
      ]
     },
     "metadata": {
      "needs_background": "light"
     },
     "output_type": "display_data"
    }
   ],
   "source": [
    "# Plotted the different endings to emails such as -com or -edu to see the dispersion amongst the data\n",
    "Data_1['Email_End'].value_counts()[0:4].plot(kind='barh')\n",
    "plt.xlabel('Count')\n",
    "plt.ylabel('Endings')\n",
    "plt.title('Count of Email Endings')\n",
    "plt.show()"
   ]
  },
  {
   "cell_type": "code",
   "execution_count": 93,
   "metadata": {},
   "outputs": [],
   "source": [
    "# Split each of the endings into their own data frames.\n",
    "com = Data_1[Data_1['Email_End']== \"com\"]\n",
    "edu = Data_1[Data_1['Email_End']== 'edu']\n",
    "net = Data_1[Data_1['Email_End']== 'net']\n",
    "org = Data_1[Data_1['Email_End']== 'org']\n",
    "ca = Data_1[Data_1['Email_End']== 'ca']"
   ]
  },
  {
   "cell_type": "code",
   "execution_count": 94,
   "metadata": {},
   "outputs": [
    {
     "data": {
      "image/png": "[encoded data removed]",
      "text/plain": [
       "<Figure size 432x288 with 1 Axes>"
      ]
     },
     "metadata": {
      "needs_background": "light"
     },
     "output_type": "display_data"
    }
   ],
   "source": [
    "# Put together the major 5 endingds. Encompass 891 of the emails.\n",
    "End5 = pd.concat([com, edu, net, org], axis=0)\n",
    "# Plotted these endings \n",
    "End5_Table = End5.groupby(['Email_End', 'Bot Classifier'])['Bot Classifier'].count().unstack('Email_End')\n",
    "End5_Table.plot(kind = 'bar')\n",
    "plt.yscale('log')"
   ]
  },
  {
   "cell_type": "code",
   "execution_count": null,
   "metadata": {},
   "outputs": [],
   "source": []
  },
  {
   "cell_type": "code",
   "execution_count": null,
   "metadata": {},
   "outputs": [],
   "source": []
  }
 ],
 "metadata": {
  "kernelspec": {
   "display_name": "Python 3",
   "language": "python",
   "name": "python3"
  },
  "language_info": {
   "codemirror_mode": {
    "name": "ipython",
    "version": 3
   },
   "file_extension": ".py",
   "mimetype": "text/x-python",
   "name": "python",
   "nbconvert_exporter": "python",
   "pygments_lexer": "ipython3",
   "version": "3.6.7"
  }
 },
 "nbformat": 4,
 "nbformat_minor": 2
}

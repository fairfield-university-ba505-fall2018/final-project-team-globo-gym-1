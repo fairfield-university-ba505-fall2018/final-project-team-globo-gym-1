{
 "cells": [
  {
   "cell_type": "code",
   "execution_count": 26,
   "metadata": {},
   "outputs": [],
   "source": [
    "import numpy as np\n",
    "import pandas as pd\n",
    "import matplotlib.pyplot as plt\n",
    "\n",
    "# Read in the file with the data and place it in a Dataframe\n",
    "Data_1 = pd.read_csv(\"Time_Data1.csv\")\n",
    "# drop the empty cells of data\n",
    "Data_1 = Data_1.dropna(axis='columns')\n",
    "# show only the first three columns\n",
    "Data_1 = Data_1.iloc[:,0:3]\n",
    "# Show the dataframe\n",
    "#Data_1"
   ]
  },
  {
   "cell_type": "code",
   "execution_count": 8,
   "metadata": {},
   "outputs": [],
   "source": [
    "# create a read_time_string function that takes 's' as an argument\n",
    "def read_time_string(s):\n",
    "    # split the 's' argument by the spaces and place in a column called times as an array\n",
    "    times = s.split()\n",
    "    # define four variables and set to 0\n",
    "    days,hours,mins,secs = 0,0,0,0\n",
    "    # for loop that goes through the entire times column array and checks whether each element should be put in a days, hours, minutes, or seconds column\n",
    "    for i in range(len(times)-1):\n",
    "        # check whether the element is equal to 'days', change the string to an int and place it in a days column\n",
    "        if times[i+1] == 'days':\n",
    "            days = int(times[i])\n",
    "        # check whether the element is equal to 'hours', change the string to an int and place it in a hours column\n",
    "        if times[i+1] == 'hours':\n",
    "            hours = int(times[i])\n",
    "        # check whether the element is equal to 'minutes', change the string to an int and place it in a minutes column\n",
    "        if times[i+1] == 'minutes':\n",
    "            mins = int(times[i])\n",
    "        # check whether the element is equal to 'seconds', change the string to an int and place it in a days seconds\n",
    "        if times[i+1] == 'seconds':\n",
    "            secs = int(times[i])\n",
    "    # Calulate the total seconds of each row it took to open the email\n",
    "    total = secs + (mins*60) + (hours*3600) + (days*86400)\n",
    "    return days,hours,mins,secs,total"
   ]
  },
  {
   "cell_type": "code",
   "execution_count": 15,
   "metadata": {},
   "outputs": [
    {
     "name": "stdout",
     "output_type": "stream",
     "text": [
      "                              Email   Date Accessed  \\\n",
      "0               ccaso13@hotmail.com  10/10/18 14:12   \n",
      "1                 scubus1@yahoo.com  10/12/18 12:29   \n",
      "2  jeffery.kinlaw@robeson.k12.nc.us  10/10/18 11:56   \n",
      "3                bsteele@uidaho.edu  10/10/18 16:30   \n",
      "4                 allstarpt@msn.com  10/10/18 16:34   \n",
      "\n",
      "                     Time to Open  Days  Hours  Mins  Secs  Total Seconds  \\\n",
      "0   2 hours 28 minutes 47 seconds     0      2    28    47           8927   \n",
      "1    2 days 30 minutes 47 seconds     2      0    30    47         174647   \n",
      "2                      04 seconds     0      0     0     4              4   \n",
      "3   3 hours 54 minutes 56 seconds     0      3    54    56          14096   \n",
      "4   4 hours 35 minutes 17 seconds     0      4    35    17          16517   \n",
      "\n",
      "     Bot  \n",
      "0  False  \n",
      "1  False  \n",
      "2   True  \n",
      "3  False  \n",
      "4  False  \n"
     ]
    }
   ],
   "source": [
    "# initialize four new variables equal to empty lists\n",
    "Days,Hours,Mins,Secs,total_time = [],[],[],[],[]\n",
    "# for loop to go through the column 'Time to Open'\n",
    "for x in Data_1['Time to Open']:\n",
    "    # set new variables equal to the data given when you call the read_time_string function\n",
    "    d,h,m,s,t = read_time_string(x)\n",
    "    # Add elements in variable d to the end of the Days list\n",
    "    Days.append(d)\n",
    "    # Add elements in variable h to the end of the Hours list\n",
    "    Hours.append(h)\n",
    "    # Add elements in variable m to the end of the Mins list\n",
    "    Mins.append(m)\n",
    "    # Add elements in variable s to the end of the Secs list\n",
    "    Secs.append(s)\n",
    "    # Add elements in variable t to the end of the totaL_time list\n",
    "    total_time.append(int(t))\n",
    "\n",
    "# Add the Days column to the original Data_1 dataframe    \n",
    "Data_1['Days'] = pd.Series(Days)\n",
    "# Add the Hours column to the original Data_1 dataframe \n",
    "Data_1['Hours'] = pd.Series(Hours)\n",
    "# Add the Mins column to the original Data_1 dataframe \n",
    "Data_1['Mins'] = pd.Series(Mins)\n",
    "# Add the Secs column to the original Data_1 dataframe \n",
    "Data_1['Secs'] = pd.Series(Secs)\n",
    "# Add the total_time column to the original Data_1 dataframe \n",
    "Data_1['Total Seconds'] = pd.Series(total_time)\n",
    "\n",
    "# define new function analyze that takes in a row as an argument\n",
    "def analyze(row):\n",
    "    # check whether the element in a row in the 'Total Seconds' column is <= 20 seconds\n",
    "    if row['Total Seconds'] <= 20:\n",
    "        # return True if <= 20 seconds\n",
    "        return True\n",
    "    # return False if > 20 seconds\n",
    "    return False\n",
    "\n",
    "# create a new column in Data_1 called 'Bot' by using lambda to call the function analyze on all rows to place either True or False in the column, 'Bot'\n",
    "Data_1['Bot'] = Data_1.apply(lambda row: analyze(row),axis=1)\n",
    "# print Data_1 to check that it worked\n",
    "print(Data_1.head())"
   ]
  },
  {
   "cell_type": "code",
   "execution_count": 25,
   "metadata": {},
   "outputs": [
    {
     "name": "stdout",
     "output_type": "stream",
     "text": [
      "110\n",
      "921\n"
     ]
    }
   ],
   "source": [
    "# calculate the total amount of trues in the Bots column\n",
    "total_true = np.sum(Data_1['Bot'])\n",
    "# calculate the total amount of falses in the Bots column\n",
    "total_false = len(Data_1['Bot'])-total_true\n",
    "\n",
    "print(total_true)\n",
    "print(total_false)"
   ]
  },
  {
   "cell_type": "code",
   "execution_count": null,
   "metadata": {},
   "outputs": [],
   "source": []
  }
 ],
 "metadata": {
  "kernelspec": {
   "display_name": "Python 3",
   "language": "python",
   "name": "python3"
  },
  "language_info": {
   "codemirror_mode": {
    "name": "ipython",
    "version": 3
   },
   "file_extension": ".py",
   "mimetype": "text/x-python",
   "name": "python",
   "nbconvert_exporter": "python",
   "pygments_lexer": "ipython3",
   "version": "3.6.5"
  }
 },
 "nbformat": 4,
 "nbformat_minor": 2
}
